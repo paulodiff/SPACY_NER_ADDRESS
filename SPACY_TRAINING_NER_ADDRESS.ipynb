{
  "nbformat": 4,
  "nbformat_minor": 0,
  "metadata": {
    "colab": {
      "provenance": [],
      "gpuType": "T4",
      "authorship_tag": "ABX9TyPtlAstdiM+WBCtD7fFbqVy",
      "include_colab_link": true
    },
    "kernelspec": {
      "name": "python3",
      "display_name": "Python 3"
    },
    "language_info": {
      "name": "python"
    },
    "accelerator": "GPU"
  },
  "cells": [
    {
      "cell_type": "markdown",
      "metadata": {
        "id": "view-in-github",
        "colab_type": "text"
      },
      "source": [
        "<a href=\"https://colab.research.google.com/github/paulodiff/SPACY_NER_ADDRESS/blob/main/SPACY_TRAINING_NER_ADDRESS.ipynb\" target=\"_parent\"><img src=\"https://colab.research.google.com/assets/colab-badge.svg\" alt=\"Open In Colab\"/></a>"
      ]
    },
    {
      "cell_type": "markdown",
      "source": [
        "# NER ADDRESS\n",
        "\n",
        "\n",
        "\n",
        "https://spacy.io/usage/training\n",
        "\n",
        "Download ner_fashion_brands modificato.\n",
        "https://medium.com/globant/building-an-address-parser-with-spacy-e3376b7cff\n",
        "\n",
        "\n",
        "\n",
        "\n",
        "The values for LOSS TOK2VEC and LOSS NER are the loss values for the token-to-vector and named entity recognition steps in your pipeline.\n",
        "\n",
        "The ENTS_F, ENTS_P, and ENTS_R column indicate the values for the F-score, precision, and recall for the named entities task (see also the items under the 'Accuracy Evaluation' )\n",
        "\n",
        "he score column shows the overall score of the pipeline, which may or may not be a weighted more to specific subtasks.\n",
        "\n",
        "**NAME\tDESCRIPTION**\n",
        "\n",
        "**Loss**\tThe training loss representing the amount of work left for the optimizer. Should decrease, but usually not to 0.\n",
        "\n",
        "**Precision (P)**\tPercentage of predicted annotations that were correct. Should increase.\n",
        "\n",
        "**Recall (R)**\tPercentage of reference annotations recovered. Should increase.\n",
        "\n",
        "**F-Score (F)**\tHarmonic mean of precision and recall. Should increase.\n",
        "\n",
        "**UAS / LAS**\tUnlabeled and labeled attachment score for the dependency parser, i.e. the percentage of correct arcs. Should increase.\n",
        "\n",
        "**Speed**\tPrediction speed in words per second (WPS). Should stay stable.\n",
        "\n",
        "Note that if the development data has raw text, some of the gold-standard entities might not align to the predicted tokenization. These tokenization errors are excluded from the NER evaluation. If your tokenization makes it impossible for the model to predict 50% of your entities, your NER F-score might still look good."
      ],
      "metadata": {
        "id": "SeNxCafxw7Q7"
      }
    },
    {
      "cell_type": "markdown",
      "source": [
        "# Convert entity annotation from spaCy v2 TRAIN_DATA format to spaCy v3\n",
        "\n",
        "\n",
        "```\n",
        "# json data to convert\n",
        "[\n",
        "  [\n",
        "    \"Who is Shaka Khan?\",\n",
        "    { \"entities\":[  [  7,17, \"PERSON\"   ]  ]  }\n",
        "  ],\n",
        "  [\n",
        "    \"I like London and Berlin.\",\n",
        "    {\n",
        "      \"entities\":[[7,13,\"LOC\"],[18,24,\"LOC\"]]\n",
        "    }\n",
        "  ]\n",
        "]\n",
        "```\n",
        "\n"
      ],
      "metadata": {
        "id": "mV6iIrwN44mZ"
      }
    },
    {
      "cell_type": "code",
      "source": [
        "# Modified project.yml\n",
        "!python -m spacy project run convert /content/ner_fashion_brands"
      ],
      "metadata": {
        "colab": {
          "base_uri": "https://localhost:8080/"
        },
        "id": "sclSoPFa7Cvf",
        "outputId": "40aa50f1-9faa-4a6c-f9c2-99e192c5c6bc"
      },
      "execution_count": 17,
      "outputs": [
        {
          "output_type": "stream",
          "name": "stdout",
          "text": [
            "2023-11-13 09:14:53.838583: E tensorflow/compiler/xla/stream_executor/cuda/cuda_dnn.cc:9342] Unable to register cuDNN factory: Attempting to register factory for plugin cuDNN when one has already been registered\n",
            "2023-11-13 09:14:53.838639: E tensorflow/compiler/xla/stream_executor/cuda/cuda_fft.cc:609] Unable to register cuFFT factory: Attempting to register factory for plugin cuFFT when one has already been registered\n",
            "2023-11-13 09:14:53.838676: E tensorflow/compiler/xla/stream_executor/cuda/cuda_blas.cc:1518] Unable to register cuBLAS factory: Attempting to register factory for plugin cuBLAS when one has already been registered\n",
            "2023-11-13 09:14:53.846632: I tensorflow/core/platform/cpu_feature_guard.cc:182] This TensorFlow binary is optimized to use available CPU instructions in performance-critical operations.\n",
            "To enable the following instructions: AVX2 AVX512F FMA, in other operations, rebuild TensorFlow with the appropriate compiler flags.\n",
            "2023-11-13 09:14:54.950359: W tensorflow/compiler/tf2tensorrt/utils/py_utils.cc:38] TF-TRT Warning: Could not find TensorRT\n",
            "2023-11-13 09:14:56.939044: I tensorflow/compiler/xla/stream_executor/cuda/cuda_gpu_executor.cc:894] successful NUMA node read from SysFS had negative value (-1), but there must be at least one NUMA node, so returning NUMA node zero. See more at https://github.com/torvalds/linux/blob/v6.0/Documentation/ABI/testing/sysfs-bus-pci#L344-L355\n",
            "2023-11-13 09:14:56.939564: I tensorflow/compiler/xla/stream_executor/cuda/cuda_gpu_executor.cc:894] successful NUMA node read from SysFS had negative value (-1), but there must be at least one NUMA node, so returning NUMA node zero. See more at https://github.com/torvalds/linux/blob/v6.0/Documentation/ABI/testing/sysfs-bus-pci#L344-L355\n",
            "2023-11-13 09:14:56.939767: I tensorflow/compiler/xla/stream_executor/cuda/cuda_gpu_executor.cc:894] successful NUMA node read from SysFS had negative value (-1), but there must be at least one NUMA node, so returning NUMA node zero. See more at https://github.com/torvalds/linux/blob/v6.0/Documentation/ABI/testing/sysfs-bus-pci#L344-L355\n",
            "\u001b[38;5;3m⚠ Missing requirements or requirement conflicts detected. Make sure\n",
            "your Python environment is set up correctly and you installed all requirements\n",
            "specified in your project's requirements.txt:\u001b[0m\n",
            "The 'spacy-streamlit>=1.0.0a0' distribution was not found and is required by the\n",
            "application\n",
            "The 'streamlit' distribution was not found and is required by the application\n",
            "\u001b[1m\n",
            "================================== convert ==================================\u001b[0m\n",
            "Running command: /usr/bin/python3 scripts/convert.py en assets/train.json corpus/train.spacy\n",
            "2023-11-13 09:15:00.579245: E tensorflow/compiler/xla/stream_executor/cuda/cuda_dnn.cc:9342] Unable to register cuDNN factory: Attempting to register factory for plugin cuDNN when one has already been registered\n",
            "2023-11-13 09:15:00.579305: E tensorflow/compiler/xla/stream_executor/cuda/cuda_fft.cc:609] Unable to register cuFFT factory: Attempting to register factory for plugin cuFFT when one has already been registered\n",
            "2023-11-13 09:15:00.579336: E tensorflow/compiler/xla/stream_executor/cuda/cuda_blas.cc:1518] Unable to register cuBLAS factory: Attempting to register factory for plugin cuBLAS when one has already been registered\n",
            "2023-11-13 09:15:01.598148: W tensorflow/compiler/tf2tensorrt/utils/py_utils.cc:38] TF-TRT Warning: Could not find TensorRT\n"
          ]
        }
      ]
    },
    {
      "cell_type": "code",
      "source": [
        "!python -m spacy project run push /content/ner_fashion_brands"
      ],
      "metadata": {
        "colab": {
          "base_uri": "https://localhost:8080/"
        },
        "id": "35skDB-9_aZu",
        "outputId": "00e85da3-4749-4628-fd16-d6c354c6f78d"
      },
      "execution_count": 20,
      "outputs": [
        {
          "output_type": "stream",
          "name": "stdout",
          "text": [
            "2023-11-13 09:23:50.818994: E tensorflow/compiler/xla/stream_executor/cuda/cuda_dnn.cc:9342] Unable to register cuDNN factory: Attempting to register factory for plugin cuDNN when one has already been registered\n",
            "2023-11-13 09:23:50.819065: E tensorflow/compiler/xla/stream_executor/cuda/cuda_fft.cc:609] Unable to register cuFFT factory: Attempting to register factory for plugin cuFFT when one has already been registered\n",
            "2023-11-13 09:23:50.819105: E tensorflow/compiler/xla/stream_executor/cuda/cuda_blas.cc:1518] Unable to register cuBLAS factory: Attempting to register factory for plugin cuBLAS when one has already been registered\n",
            "2023-11-13 09:23:50.827701: I tensorflow/core/platform/cpu_feature_guard.cc:182] This TensorFlow binary is optimized to use available CPU instructions in performance-critical operations.\n",
            "To enable the following instructions: AVX2 AVX512F FMA, in other operations, rebuild TensorFlow with the appropriate compiler flags.\n",
            "2023-11-13 09:23:51.986796: W tensorflow/compiler/tf2tensorrt/utils/py_utils.cc:38] TF-TRT Warning: Could not find TensorRT\n",
            "2023-11-13 09:23:53.461598: I tensorflow/compiler/xla/stream_executor/cuda/cuda_gpu_executor.cc:894] successful NUMA node read from SysFS had negative value (-1), but there must be at least one NUMA node, so returning NUMA node zero. See more at https://github.com/torvalds/linux/blob/v6.0/Documentation/ABI/testing/sysfs-bus-pci#L344-L355\n",
            "2023-11-13 09:23:53.462141: I tensorflow/compiler/xla/stream_executor/cuda/cuda_gpu_executor.cc:894] successful NUMA node read from SysFS had negative value (-1), but there must be at least one NUMA node, so returning NUMA node zero. See more at https://github.com/torvalds/linux/blob/v6.0/Documentation/ABI/testing/sysfs-bus-pci#L344-L355\n",
            "2023-11-13 09:23:53.462388: I tensorflow/compiler/xla/stream_executor/cuda/cuda_gpu_executor.cc:894] successful NUMA node read from SysFS had negative value (-1), but there must be at least one NUMA node, so returning NUMA node zero. See more at https://github.com/torvalds/linux/blob/v6.0/Documentation/ABI/testing/sysfs-bus-pci#L344-L355\n",
            "\n",
            "\u001b[38;5;1m✘ Can't find command or workflow 'push' in project.yml\u001b[0m\n",
            "Available commands: preprocess, train, evaluate, package, visualize-model,\n",
            "visualize-data, convert. Available workflows: all\n",
            "\n"
          ]
        }
      ]
    },
    {
      "cell_type": "code",
      "source": [
        "# Data conversion from  Convert entity annotation from spaCy v2 TRAIN_DATA format to spaCy v3\n",
        "# https://raw.githubusercontent.com/explosion/projects/v3/pipelines/ner_demo/scripts/convert.py\n",
        "# ${vars.lang} = en\n",
        "# train: \"train.json\"\n",
        "!python /content/ner_fashion_brands/scripts/convert.py en assets/train.json corpus/train.spacy"
      ],
      "metadata": {
        "colab": {
          "base_uri": "https://localhost:8080/"
        },
        "id": "FaMvg4F54zuz",
        "outputId": "05b6da52-8677-489b-cbae-78e4825d2122"
      },
      "execution_count": 5,
      "outputs": [
        {
          "output_type": "stream",
          "name": "stdout",
          "text": [
            "2023-11-13 09:00:23.383109: E tensorflow/compiler/xla/stream_executor/cuda/cuda_dnn.cc:9342] Unable to register cuDNN factory: Attempting to register factory for plugin cuDNN when one has already been registered\n",
            "2023-11-13 09:00:23.383167: E tensorflow/compiler/xla/stream_executor/cuda/cuda_fft.cc:609] Unable to register cuFFT factory: Attempting to register factory for plugin cuFFT when one has already been registered\n",
            "2023-11-13 09:00:23.383208: E tensorflow/compiler/xla/stream_executor/cuda/cuda_blas.cc:1518] Unable to register cuBLAS factory: Attempting to register factory for plugin cuBLAS when one has already been registered\n",
            "2023-11-13 09:00:23.391420: I tensorflow/core/platform/cpu_feature_guard.cc:182] This TensorFlow binary is optimized to use available CPU instructions in performance-critical operations.\n",
            "To enable the following instructions: AVX2 AVX512F FMA, in other operations, rebuild TensorFlow with the appropriate compiler flags.\n",
            "2023-11-13 09:00:24.446290: W tensorflow/compiler/tf2tensorrt/utils/py_utils.cc:38] TF-TRT Warning: Could not find TensorRT\n",
            "2023-11-13 09:00:25.899696: I tensorflow/compiler/xla/stream_executor/cuda/cuda_gpu_executor.cc:894] successful NUMA node read from SysFS had negative value (-1), but there must be at least one NUMA node, so returning NUMA node zero. See more at https://github.com/torvalds/linux/blob/v6.0/Documentation/ABI/testing/sysfs-bus-pci#L344-L355\n",
            "2023-11-13 09:00:25.900076: I tensorflow/compiler/xla/stream_executor/cuda/cuda_gpu_executor.cc:894] successful NUMA node read from SysFS had negative value (-1), but there must be at least one NUMA node, so returning NUMA node zero. See more at https://github.com/torvalds/linux/blob/v6.0/Documentation/ABI/testing/sysfs-bus-pci#L344-L355\n",
            "2023-11-13 09:00:25.900236: I tensorflow/compiler/xla/stream_executor/cuda/cuda_gpu_executor.cc:894] successful NUMA node read from SysFS had negative value (-1), but there must be at least one NUMA node, so returning NUMA node zero. See more at https://github.com/torvalds/linux/blob/v6.0/Documentation/ABI/testing/sysfs-bus-pci#L344-L355\n",
            "\u001b[31m╭─\u001b[0m\u001b[31m──────────────────────────────\u001b[0m\u001b[31m \u001b[0m\u001b[1;31mTraceback \u001b[0m\u001b[1;2;31m(most recent call last)\u001b[0m\u001b[31m \u001b[0m\u001b[31m───────────────────────────────\u001b[0m\u001b[31m─╮\u001b[0m\n",
            "\u001b[31m│\u001b[0m \u001b[2;33m/content/ner_fashion_brands/scripts/\u001b[0m\u001b[1;33mconvert.py\u001b[0m:\u001b[94m15\u001b[0m in \u001b[92mconvert\u001b[0m                                     \u001b[31m│\u001b[0m\n",
            "\u001b[31m│\u001b[0m                                                                                                  \u001b[31m│\u001b[0m\n",
            "\u001b[31m│\u001b[0m   \u001b[2m12 \u001b[0m\u001b[94mdef\u001b[0m \u001b[92mconvert\u001b[0m(lang: \u001b[96mstr\u001b[0m, input_path: Path, output_path: Path):                                \u001b[31m│\u001b[0m\n",
            "\u001b[31m│\u001b[0m   \u001b[2m13 \u001b[0m\u001b[2m│   \u001b[0mnlp = spacy.blank(lang)                                                                 \u001b[31m│\u001b[0m\n",
            "\u001b[31m│\u001b[0m   \u001b[2m14 \u001b[0m\u001b[2m│   \u001b[0mdb = DocBin()                                                                           \u001b[31m│\u001b[0m\n",
            "\u001b[31m│\u001b[0m \u001b[31m❱ \u001b[0m15 \u001b[2m│   \u001b[0m\u001b[94mfor\u001b[0m text, annot \u001b[95min\u001b[0m srsly.read_json(input_path):                                         \u001b[31m│\u001b[0m\n",
            "\u001b[31m│\u001b[0m   \u001b[2m16 \u001b[0m\u001b[2m│   │   \u001b[0mdoc = nlp.make_doc(text)                                                            \u001b[31m│\u001b[0m\n",
            "\u001b[31m│\u001b[0m   \u001b[2m17 \u001b[0m\u001b[2m│   │   \u001b[0ments = []                                                                           \u001b[31m│\u001b[0m\n",
            "\u001b[31m│\u001b[0m   \u001b[2m18 \u001b[0m\u001b[2m│   │   \u001b[0m\u001b[94mfor\u001b[0m start, end, label \u001b[95min\u001b[0m annot[\u001b[33m\"\u001b[0m\u001b[33mentities\u001b[0m\u001b[33m\"\u001b[0m]:                                         \u001b[31m│\u001b[0m\n",
            "\u001b[31m│\u001b[0m                                                                                                  \u001b[31m│\u001b[0m\n",
            "\u001b[31m│\u001b[0m \u001b[33m╭─\u001b[0m\u001b[33m───────────────────────────────\u001b[0m\u001b[33m locals \u001b[0m\u001b[33m────────────────────────────────\u001b[0m\u001b[33m─╮\u001b[0m                      \u001b[31m│\u001b[0m\n",
            "\u001b[31m│\u001b[0m \u001b[33m│\u001b[0m          db = \u001b[1m<\u001b[0m\u001b[1;95mspacy.tokens._serialize.DocBin\u001b[0m\u001b[39m object at \u001b[0m\u001b[94m0x7e59bfef9a50\u001b[0m\u001b[1m>\u001b[0m \u001b[33m│\u001b[0m                      \u001b[31m│\u001b[0m\n",
            "\u001b[31m│\u001b[0m \u001b[33m│\u001b[0m  input_path = \u001b[1;35mPosixPath\u001b[0m\u001b[1m(\u001b[0m\u001b[33m'assets/train.json'\u001b[0m\u001b[1m)\u001b[0m                            \u001b[33m│\u001b[0m                      \u001b[31m│\u001b[0m\n",
            "\u001b[31m│\u001b[0m \u001b[33m│\u001b[0m        lang = \u001b[33m'en'\u001b[0m                                                      \u001b[33m│\u001b[0m                      \u001b[31m│\u001b[0m\n",
            "\u001b[31m│\u001b[0m \u001b[33m│\u001b[0m         nlp = \u001b[1m<\u001b[0m\u001b[1;95mspacy.lang.en.English\u001b[0m\u001b[39m object at \u001b[0m\u001b[94m0x7e59c015f400\u001b[0m\u001b[1m>\u001b[0m          \u001b[33m│\u001b[0m                      \u001b[31m│\u001b[0m\n",
            "\u001b[31m│\u001b[0m \u001b[33m│\u001b[0m output_path = \u001b[1;35mPosixPath\u001b[0m\u001b[1m(\u001b[0m\u001b[33m'corpus/train.spacy'\u001b[0m\u001b[1m)\u001b[0m                           \u001b[33m│\u001b[0m                      \u001b[31m│\u001b[0m\n",
            "\u001b[31m│\u001b[0m \u001b[33m╰─────────────────────────────────────────────────────────────────────────╯\u001b[0m                      \u001b[31m│\u001b[0m\n",
            "\u001b[31m│\u001b[0m                                                                                                  \u001b[31m│\u001b[0m\n",
            "\u001b[31m│\u001b[0m \u001b[2;33m/usr/local/lib/python3.10/dist-packages/srsly/\u001b[0m\u001b[1;33m_json_api.py\u001b[0m:\u001b[94m51\u001b[0m in \u001b[92mread_json\u001b[0m                       \u001b[31m│\u001b[0m\n",
            "\u001b[31m│\u001b[0m                                                                                                  \u001b[31m│\u001b[0m\n",
            "\u001b[31m│\u001b[0m   \u001b[2m 48 \u001b[0m\u001b[2m│   \u001b[0m\u001b[94mif\u001b[0m path == \u001b[33m\"\u001b[0m\u001b[33m-\u001b[0m\u001b[33m\"\u001b[0m:  \u001b[2m# reading from sys.stdin\u001b[0m                                              \u001b[31m│\u001b[0m\n",
            "\u001b[31m│\u001b[0m   \u001b[2m 49 \u001b[0m\u001b[2m│   │   \u001b[0mdata = sys.stdin.read()                                                            \u001b[31m│\u001b[0m\n",
            "\u001b[31m│\u001b[0m   \u001b[2m 50 \u001b[0m\u001b[2m│   │   \u001b[0m\u001b[94mreturn\u001b[0m ujson.loads(data)                                                           \u001b[31m│\u001b[0m\n",
            "\u001b[31m│\u001b[0m \u001b[31m❱ \u001b[0m 51 \u001b[2m│   \u001b[0mfile_path = force_path(path)                                                           \u001b[31m│\u001b[0m\n",
            "\u001b[31m│\u001b[0m   \u001b[2m 52 \u001b[0m\u001b[2m│   \u001b[0m\u001b[94mwith\u001b[0m file_path.open(\u001b[33m\"\u001b[0m\u001b[33mr\u001b[0m\u001b[33m\"\u001b[0m, encoding=\u001b[33m\"\u001b[0m\u001b[33mutf8\u001b[0m\u001b[33m\"\u001b[0m) \u001b[94mas\u001b[0m f:                                        \u001b[31m│\u001b[0m\n",
            "\u001b[31m│\u001b[0m   \u001b[2m 53 \u001b[0m\u001b[2m│   │   \u001b[0m\u001b[94mreturn\u001b[0m ujson.load(f)                                                               \u001b[31m│\u001b[0m\n",
            "\u001b[31m│\u001b[0m   \u001b[2m 54 \u001b[0m                                                                                           \u001b[31m│\u001b[0m\n",
            "\u001b[31m│\u001b[0m                                                                                                  \u001b[31m│\u001b[0m\n",
            "\u001b[31m│\u001b[0m \u001b[33m╭─\u001b[0m\u001b[33m──────────────\u001b[0m\u001b[33m locals \u001b[0m\u001b[33m───────────────\u001b[0m\u001b[33m─╮\u001b[0m                                                        \u001b[31m│\u001b[0m\n",
            "\u001b[31m│\u001b[0m \u001b[33m│\u001b[0m path = \u001b[1;35mPosixPath\u001b[0m\u001b[1m(\u001b[0m\u001b[33m'assets/train.json'\u001b[0m\u001b[1m)\u001b[0m \u001b[33m│\u001b[0m                                                        \u001b[31m│\u001b[0m\n",
            "\u001b[31m│\u001b[0m \u001b[33m╰───────────────────────────────────────╯\u001b[0m                                                        \u001b[31m│\u001b[0m\n",
            "\u001b[31m│\u001b[0m                                                                                                  \u001b[31m│\u001b[0m\n",
            "\u001b[31m│\u001b[0m \u001b[2;33m/usr/local/lib/python3.10/dist-packages/srsly/\u001b[0m\u001b[1;33mutil.py\u001b[0m:\u001b[94m24\u001b[0m in \u001b[92mforce_path\u001b[0m                           \u001b[31m│\u001b[0m\n",
            "\u001b[31m│\u001b[0m                                                                                                  \u001b[31m│\u001b[0m\n",
            "\u001b[31m│\u001b[0m   \u001b[2m21 \u001b[0m\u001b[2m│   \u001b[0m\u001b[94mif\u001b[0m \u001b[95mnot\u001b[0m \u001b[96misinstance\u001b[0m(location, Path):                                                      \u001b[31m│\u001b[0m\n",
            "\u001b[31m│\u001b[0m   \u001b[2m22 \u001b[0m\u001b[2m│   │   \u001b[0mlocation = Path(location)                                                           \u001b[31m│\u001b[0m\n",
            "\u001b[31m│\u001b[0m   \u001b[2m23 \u001b[0m\u001b[2m│   \u001b[0m\u001b[94mif\u001b[0m require_exists \u001b[95mand\u001b[0m \u001b[95mnot\u001b[0m location.exists():                                            \u001b[31m│\u001b[0m\n",
            "\u001b[31m│\u001b[0m \u001b[31m❱ \u001b[0m24 \u001b[2m│   │   \u001b[0m\u001b[94mraise\u001b[0m \u001b[96mValueError\u001b[0m(\u001b[33mf\u001b[0m\u001b[33m\"\u001b[0m\u001b[33mCan\u001b[0m\u001b[33m'\u001b[0m\u001b[33mt read file: \u001b[0m\u001b[33m{\u001b[0mlocation\u001b[33m}\u001b[0m\u001b[33m\"\u001b[0m)                                    \u001b[31m│\u001b[0m\n",
            "\u001b[31m│\u001b[0m   \u001b[2m25 \u001b[0m\u001b[2m│   \u001b[0m\u001b[94mreturn\u001b[0m location                                                                         \u001b[31m│\u001b[0m\n",
            "\u001b[31m│\u001b[0m   \u001b[2m26 \u001b[0m                                                                                            \u001b[31m│\u001b[0m\n",
            "\u001b[31m│\u001b[0m   \u001b[2m27 \u001b[0m                                                                                            \u001b[31m│\u001b[0m\n",
            "\u001b[31m│\u001b[0m                                                                                                  \u001b[31m│\u001b[0m\n",
            "\u001b[31m│\u001b[0m \u001b[33m╭─\u001b[0m\u001b[33m───────────────────\u001b[0m\u001b[33m locals \u001b[0m\u001b[33m────────────────────\u001b[0m\u001b[33m─╮\u001b[0m                                              \u001b[31m│\u001b[0m\n",
            "\u001b[31m│\u001b[0m \u001b[33m│\u001b[0m       location = \u001b[1;35mPosixPath\u001b[0m\u001b[1m(\u001b[0m\u001b[33m'assets/train.json'\u001b[0m\u001b[1m)\u001b[0m \u001b[33m│\u001b[0m                                              \u001b[31m│\u001b[0m\n",
            "\u001b[31m│\u001b[0m \u001b[33m│\u001b[0m require_exists = \u001b[94mTrue\u001b[0m                           \u001b[33m│\u001b[0m                                              \u001b[31m│\u001b[0m\n",
            "\u001b[31m│\u001b[0m \u001b[33m╰─────────────────────────────────────────────────╯\u001b[0m                                              \u001b[31m│\u001b[0m\n",
            "\u001b[31m╰──────────────────────────────────────────────────────────────────────────────────────────────────╯\u001b[0m\n",
            "\u001b[1;91mValueError: \u001b[0mCan't read file: assets/train.json\n"
          ]
        }
      ]
    },
    {
      "cell_type": "code",
      "source": [
        "# clone project\n",
        "!python -m spacy project clone tutorials/ner_fashion_brands"
      ],
      "metadata": {
        "colab": {
          "base_uri": "https://localhost:8080/"
        },
        "id": "rgYY8W8jlwI3",
        "outputId": "c906efee-c655-4d6f-c6ff-ce82cdd1d00a"
      },
      "execution_count": 1,
      "outputs": [
        {
          "output_type": "stream",
          "name": "stdout",
          "text": [
            "2023-11-13 08:29:30.696127: E tensorflow/compiler/xla/stream_executor/cuda/cuda_dnn.cc:9342] Unable to register cuDNN factory: Attempting to register factory for plugin cuDNN when one has already been registered\n",
            "2023-11-13 08:29:30.700230: E tensorflow/compiler/xla/stream_executor/cuda/cuda_fft.cc:609] Unable to register cuFFT factory: Attempting to register factory for plugin cuFFT when one has already been registered\n",
            "2023-11-13 08:29:30.700537: E tensorflow/compiler/xla/stream_executor/cuda/cuda_blas.cc:1518] Unable to register cuBLAS factory: Attempting to register factory for plugin cuBLAS when one has already been registered\n",
            "2023-11-13 08:29:30.740942: I tensorflow/core/platform/cpu_feature_guard.cc:182] This TensorFlow binary is optimized to use available CPU instructions in performance-critical operations.\n",
            "To enable the following instructions: AVX2 AVX512F FMA, in other operations, rebuild TensorFlow with the appropriate compiler flags.\n",
            "2023-11-13 08:29:32.398908: W tensorflow/compiler/tf2tensorrt/utils/py_utils.cc:38] TF-TRT Warning: Could not find TensorRT\n",
            "2023-11-13 08:29:33.818994: I tensorflow/compiler/xla/stream_executor/cuda/cuda_gpu_executor.cc:894] successful NUMA node read from SysFS had negative value (-1), but there must be at least one NUMA node, so returning NUMA node zero. See more at https://github.com/torvalds/linux/blob/v6.0/Documentation/ABI/testing/sysfs-bus-pci#L344-L355\n",
            "2023-11-13 08:29:33.819531: I tensorflow/compiler/xla/stream_executor/cuda/cuda_gpu_executor.cc:894] successful NUMA node read from SysFS had negative value (-1), but there must be at least one NUMA node, so returning NUMA node zero. See more at https://github.com/torvalds/linux/blob/v6.0/Documentation/ABI/testing/sysfs-bus-pci#L344-L355\n",
            "2023-11-13 08:29:33.819751: I tensorflow/compiler/xla/stream_executor/cuda/cuda_gpu_executor.cc:894] successful NUMA node read from SysFS had negative value (-1), but there must be at least one NUMA node, so returning NUMA node zero. See more at https://github.com/torvalds/linux/blob/v6.0/Documentation/ABI/testing/sysfs-bus-pci#L344-L355\n",
            "\u001b[38;5;2m✔ Cloned 'tutorials/ner_fashion_brands' from 'explosion/projects'\n",
            "(branch 'v3')\u001b[0m\n",
            "/content/ner_fashion_brands\n",
            "\u001b[38;5;2m✔ Your project is now ready!\u001b[0m\n",
            "To fetch the assets, run:\n",
            "python -m spacy project assets /content/ner_fashion_brands\n"
          ]
        }
      ]
    },
    {
      "cell_type": "code",
      "execution_count": 13,
      "metadata": {
        "colab": {
          "base_uri": "https://localhost:8080/"
        },
        "id": "Wgp68nZva63T",
        "outputId": "39f1a9bb-4570-455f-9bc0-9d0c280eeada"
      },
      "outputs": [
        {
          "output_type": "stream",
          "name": "stdout",
          "text": [
            "2023-11-13 09:11:16.148155: E tensorflow/compiler/xla/stream_executor/cuda/cuda_dnn.cc:9342] Unable to register cuDNN factory: Attempting to register factory for plugin cuDNN when one has already been registered\n",
            "2023-11-13 09:11:16.148210: E tensorflow/compiler/xla/stream_executor/cuda/cuda_fft.cc:609] Unable to register cuFFT factory: Attempting to register factory for plugin cuFFT when one has already been registered\n",
            "2023-11-13 09:11:16.148249: E tensorflow/compiler/xla/stream_executor/cuda/cuda_blas.cc:1518] Unable to register cuBLAS factory: Attempting to register factory for plugin cuBLAS when one has already been registered\n",
            "2023-11-13 09:11:16.156105: I tensorflow/core/platform/cpu_feature_guard.cc:182] This TensorFlow binary is optimized to use available CPU instructions in performance-critical operations.\n",
            "To enable the following instructions: AVX2 AVX512F FMA, in other operations, rebuild TensorFlow with the appropriate compiler flags.\n",
            "2023-11-13 09:11:17.321693: W tensorflow/compiler/tf2tensorrt/utils/py_utils.cc:38] TF-TRT Warning: Could not find TensorRT\n",
            "2023-11-13 09:11:18.823043: I tensorflow/compiler/xla/stream_executor/cuda/cuda_gpu_executor.cc:894] successful NUMA node read from SysFS had negative value (-1), but there must be at least one NUMA node, so returning NUMA node zero. See more at https://github.com/torvalds/linux/blob/v6.0/Documentation/ABI/testing/sysfs-bus-pci#L344-L355\n",
            "2023-11-13 09:11:18.823486: I tensorflow/compiler/xla/stream_executor/cuda/cuda_gpu_executor.cc:894] successful NUMA node read from SysFS had negative value (-1), but there must be at least one NUMA node, so returning NUMA node zero. See more at https://github.com/torvalds/linux/blob/v6.0/Documentation/ABI/testing/sysfs-bus-pci#L344-L355\n",
            "2023-11-13 09:11:18.823676: I tensorflow/compiler/xla/stream_executor/cuda/cuda_gpu_executor.cc:894] successful NUMA node read from SysFS had negative value (-1), but there must be at least one NUMA node, so returning NUMA node zero. See more at https://github.com/torvalds/linux/blob/v6.0/Documentation/ABI/testing/sysfs-bus-pci#L344-L355\n",
            "\u001b[38;5;4mℹ Fetching 3 asset(s)\u001b[0m\n",
            "\u001b[38;5;2m✔ Asset exists with matching checksum:\n",
            "/content/ner_fashion_brands/assets/fashion_brands_training.jsonl\u001b[0m\n",
            "\u001b[38;5;2m✔ Asset exists with matching checksum:\n",
            "/content/ner_fashion_brands/assets/fashion_brands_eval.jsonl\u001b[0m\n",
            "\u001b[38;5;2m✔ Asset exists with matching checksum:\n",
            "/content/ner_fashion_brands/assets/fashion_brands_patterns.jsonl\u001b[0m\n"
          ]
        }
      ],
      "source": [
        "# Get assets\n",
        "!python -m spacy project assets /content/ner_fashion_brands"
      ]
    },
    {
      "cell_type": "code",
      "source": [
        "# requirements\n",
        "!pip install -r /content/ner_fashion_brands/requirements.txt"
      ],
      "metadata": {
        "id": "TUsp-I53d-v3"
      },
      "execution_count": null,
      "outputs": []
    },
    {
      "cell_type": "code",
      "source": [
        "# Preprocess\n",
        "!python -m spacy project run preprocess /content/ner_fashion_brands"
      ],
      "metadata": {
        "colab": {
          "base_uri": "https://localhost:8080/"
        },
        "id": "QNYM42mCdb5O",
        "outputId": "eac4fc19-24e3-42fa-ca07-395a8e3661f4"
      },
      "execution_count": 14,
      "outputs": [
        {
          "output_type": "stream",
          "name": "stdout",
          "text": [
            "2023-11-13 09:11:31.687929: E tensorflow/compiler/xla/stream_executor/cuda/cuda_dnn.cc:9342] Unable to register cuDNN factory: Attempting to register factory for plugin cuDNN when one has already been registered\n",
            "2023-11-13 09:11:31.687987: E tensorflow/compiler/xla/stream_executor/cuda/cuda_fft.cc:609] Unable to register cuFFT factory: Attempting to register factory for plugin cuFFT when one has already been registered\n",
            "2023-11-13 09:11:31.688026: E tensorflow/compiler/xla/stream_executor/cuda/cuda_blas.cc:1518] Unable to register cuBLAS factory: Attempting to register factory for plugin cuBLAS when one has already been registered\n",
            "2023-11-13 09:11:31.695877: I tensorflow/core/platform/cpu_feature_guard.cc:182] This TensorFlow binary is optimized to use available CPU instructions in performance-critical operations.\n",
            "To enable the following instructions: AVX2 AVX512F FMA, in other operations, rebuild TensorFlow with the appropriate compiler flags.\n",
            "2023-11-13 09:11:32.825388: W tensorflow/compiler/tf2tensorrt/utils/py_utils.cc:38] TF-TRT Warning: Could not find TensorRT\n",
            "2023-11-13 09:11:34.291635: I tensorflow/compiler/xla/stream_executor/cuda/cuda_gpu_executor.cc:894] successful NUMA node read from SysFS had negative value (-1), but there must be at least one NUMA node, so returning NUMA node zero. See more at https://github.com/torvalds/linux/blob/v6.0/Documentation/ABI/testing/sysfs-bus-pci#L344-L355\n",
            "2023-11-13 09:11:34.292026: I tensorflow/compiler/xla/stream_executor/cuda/cuda_gpu_executor.cc:894] successful NUMA node read from SysFS had negative value (-1), but there must be at least one NUMA node, so returning NUMA node zero. See more at https://github.com/torvalds/linux/blob/v6.0/Documentation/ABI/testing/sysfs-bus-pci#L344-L355\n",
            "2023-11-13 09:11:34.292185: I tensorflow/compiler/xla/stream_executor/cuda/cuda_gpu_executor.cc:894] successful NUMA node read from SysFS had negative value (-1), but there must be at least one NUMA node, so returning NUMA node zero. See more at https://github.com/torvalds/linux/blob/v6.0/Documentation/ABI/testing/sysfs-bus-pci#L344-L355\n",
            "\u001b[38;5;3m⚠ Missing requirements or requirement conflicts detected. Make sure\n",
            "your Python environment is set up correctly and you installed all requirements\n",
            "specified in your project's requirements.txt:\u001b[0m\n",
            "The 'spacy-streamlit>=1.0.0a0' distribution was not found and is required by the\n",
            "application\n",
            "The 'streamlit' distribution was not found and is required by the application\n",
            "\u001b[1m\n",
            "================================= preprocess =================================\u001b[0m\n",
            "Running command: /usr/bin/python3 scripts/preprocess.py assets/fashion_brands_training.jsonl corpus/fashion_brands_training.spacy\n",
            "2023-11-13 09:11:37.780618: E tensorflow/compiler/xla/stream_executor/cuda/cuda_dnn.cc:9342] Unable to register cuDNN factory: Attempting to register factory for plugin cuDNN when one has already been registered\n",
            "2023-11-13 09:11:37.780673: E tensorflow/compiler/xla/stream_executor/cuda/cuda_fft.cc:609] Unable to register cuFFT factory: Attempting to register factory for plugin cuFFT when one has already been registered\n",
            "2023-11-13 09:11:37.780707: E tensorflow/compiler/xla/stream_executor/cuda/cuda_blas.cc:1518] Unable to register cuBLAS factory: Attempting to register factory for plugin cuBLAS when one has already been registered\n",
            "2023-11-13 09:11:39.300951: W tensorflow/compiler/tf2tensorrt/utils/py_utils.cc:38] TF-TRT Warning: Could not find TensorRT\n",
            "Processed 1235 documents: fashion_brands_training.spacy\n",
            "Running command: /usr/bin/python3 scripts/preprocess.py assets/fashion_brands_eval.jsonl corpus/fashion_brands_eval.spacy\n",
            "2023-11-13 09:11:45.215783: E tensorflow/compiler/xla/stream_executor/cuda/cuda_dnn.cc:9342] Unable to register cuDNN factory: Attempting to register factory for plugin cuDNN when one has already been registered\n",
            "2023-11-13 09:11:45.215839: E tensorflow/compiler/xla/stream_executor/cuda/cuda_fft.cc:609] Unable to register cuFFT factory: Attempting to register factory for plugin cuFFT when one has already been registered\n",
            "2023-11-13 09:11:45.215870: E tensorflow/compiler/xla/stream_executor/cuda/cuda_blas.cc:1518] Unable to register cuBLAS factory: Attempting to register factory for plugin cuBLAS when one has already been registered\n",
            "2023-11-13 09:11:46.285028: W tensorflow/compiler/tf2tensorrt/utils/py_utils.cc:38] TF-TRT Warning: Could not find TensorRT\n",
            "Processed 500 documents: fashion_brands_eval.spacy\n"
          ]
        }
      ]
    },
    {
      "cell_type": "code",
      "source": [
        "# run all project\n",
        "!python -m spacy project run all /content/ner_fashion_brands\n"
      ],
      "metadata": {
        "colab": {
          "base_uri": "https://localhost:8080/"
        },
        "id": "Viw8Jed5ecB4",
        "outputId": "07b7a5fc-7f14-4cf9-b8b3-ee682d6499ce"
      },
      "execution_count": null,
      "outputs": [
        {
          "output_type": "stream",
          "name": "stdout",
          "text": [
            "2023-11-07 11:11:02.012362: E tensorflow/compiler/xla/stream_executor/cuda/cuda_dnn.cc:9342] Unable to register cuDNN factory: Attempting to register factory for plugin cuDNN when one has already been registered\n",
            "2023-11-07 11:11:02.012431: E tensorflow/compiler/xla/stream_executor/cuda/cuda_fft.cc:609] Unable to register cuFFT factory: Attempting to register factory for plugin cuFFT when one has already been registered\n",
            "2023-11-07 11:11:02.012469: E tensorflow/compiler/xla/stream_executor/cuda/cuda_blas.cc:1518] Unable to register cuBLAS factory: Attempting to register factory for plugin cuBLAS when one has already been registered\n",
            "2023-11-07 11:11:02.020308: I tensorflow/core/platform/cpu_feature_guard.cc:182] This TensorFlow binary is optimized to use available CPU instructions in performance-critical operations.\n",
            "To enable the following instructions: AVX2 AVX512F FMA, in other operations, rebuild TensorFlow with the appropriate compiler flags.\n",
            "2023-11-07 11:11:03.112613: W tensorflow/compiler/tf2tensorrt/utils/py_utils.cc:38] TF-TRT Warning: Could not find TensorRT\n",
            "2023-11-07 11:11:04.424135: I tensorflow/compiler/xla/stream_executor/cuda/cuda_gpu_executor.cc:894] successful NUMA node read from SysFS had negative value (-1), but there must be at least one NUMA node, so returning NUMA node zero. See more at https://github.com/torvalds/linux/blob/v6.0/Documentation/ABI/testing/sysfs-bus-pci#L344-L355\n",
            "2023-11-07 11:11:04.424632: I tensorflow/compiler/xla/stream_executor/cuda/cuda_gpu_executor.cc:894] successful NUMA node read from SysFS had negative value (-1), but there must be at least one NUMA node, so returning NUMA node zero. See more at https://github.com/torvalds/linux/blob/v6.0/Documentation/ABI/testing/sysfs-bus-pci#L344-L355\n",
            "2023-11-07 11:11:04.424879: I tensorflow/compiler/xla/stream_executor/cuda/cuda_gpu_executor.cc:894] successful NUMA node read from SysFS had negative value (-1), but there must be at least one NUMA node, so returning NUMA node zero. See more at https://github.com/torvalds/linux/blob/v6.0/Documentation/ABI/testing/sysfs-bus-pci#L344-L355\n",
            "\u001b[38;5;4mℹ Running workflow 'all'\u001b[0m\n",
            "\u001b[1m\n",
            "================================= preprocess =================================\u001b[0m\n",
            "\u001b[38;5;4mℹ Skipping 'preprocess': nothing changed\u001b[0m\n",
            "\u001b[1m\n",
            "=================================== train ===================================\u001b[0m\n",
            "Running command: /usr/bin/python3 -m spacy train configs/config.cfg --output training/ --paths.train corpus/fashion_brands_training.spacy --paths.dev corpus/fashion_brands_eval.spacy\n",
            "2023-11-07 11:11:07.886598: E tensorflow/compiler/xla/stream_executor/cuda/cuda_dnn.cc:9342] Unable to register cuDNN factory: Attempting to register factory for plugin cuDNN when one has already been registered\n",
            "2023-11-07 11:11:07.886658: E tensorflow/compiler/xla/stream_executor/cuda/cuda_fft.cc:609] Unable to register cuFFT factory: Attempting to register factory for plugin cuFFT when one has already been registered\n",
            "2023-11-07 11:11:07.886692: E tensorflow/compiler/xla/stream_executor/cuda/cuda_blas.cc:1518] Unable to register cuBLAS factory: Attempting to register factory for plugin cuBLAS when one has already been registered\n",
            "2023-11-07 11:11:09.414954: W tensorflow/compiler/tf2tensorrt/utils/py_utils.cc:38] TF-TRT Warning: Could not find TensorRT\n",
            "\u001b[38;5;4mℹ Saving to output directory: training\u001b[0m\n",
            "\u001b[38;5;4mℹ Using CPU\u001b[0m\n",
            "\u001b[38;5;4mℹ To switch to GPU 0, use the option: --gpu-id 0\u001b[0m\n",
            "\u001b[1m\n",
            "=========================== Initializing pipeline ===========================\u001b[0m\n",
            "\u001b[38;5;2m✔ Initialized pipeline\u001b[0m\n",
            "\u001b[1m\n",
            "============================= Training pipeline =============================\u001b[0m\n",
            "\u001b[38;5;4mℹ Pipeline: ['tok2vec', 'ner']\u001b[0m\n",
            "\u001b[38;5;4mℹ Initial learn rate: 0.0\u001b[0m\n",
            "E    #       LOSS TOK2VEC  LOSS NER  ENTS_F  ENTS_P  ENTS_R  SCORE \n",
            "---  ------  ------------  --------  ------  ------  ------  ------\n",
            "  0       0          0.00     46.17    0.00    0.00    0.00    0.00\n",
            "  0     200         10.44  14143.23    0.00    0.00    0.00    0.00\n",
            "  0     400         17.37    921.59    0.00    0.00    0.00    0.00\n",
            "  1     600         18.69    517.71    0.00    0.00    0.00    0.00\n",
            "  1     800         22.24    619.45    0.83   50.00    0.42    0.01\n",
            "  2    1000         26.60    656.41    4.84   60.00    2.52    0.05\n",
            "  3    1200         29.69    745.91    9.70   43.33    5.46    0.10\n",
            "  4    1400         37.81    755.04   20.92   47.06   13.45    0.21\n",
            "  6    1600         82.67    885.02   30.03   46.09   22.27    0.30\n",
            "  7    1800        391.72    985.57   36.17   49.28   28.57    0.36\n",
            "  9    2000        353.31   1073.19   39.60   48.19   33.61    0.40\n",
            " 12    2200        107.80    989.55   40.81   50.94   34.03    0.41\n",
            " 15    2400        138.00   1030.62   47.23   55.37   41.18    0.47\n",
            " 19    2600        149.41    953.75   50.00   56.99   44.54    0.50\n",
            " 22    2800        124.95    701.97   51.80   60.34   45.38    0.52\n",
            " 25    3000        120.46    579.98   53.85   62.92   47.06    0.54\n",
            " 29    3200        113.40    432.13   54.16   62.30   47.90    0.54\n",
            " 32    3400        117.00    383.12   55.50   64.44   48.74    0.56\n",
            " 35    3600        125.01    306.45   55.07   64.77   47.90    0.55\n",
            " 38    3800        125.71    296.10   57.35   68.82   49.16    0.57\n",
            " 42    4000        150.71    254.97   58.05   69.19   50.00    0.58\n",
            " 45    4200        157.87    215.53   57.70   69.01   49.58    0.58\n",
            " 48    4400        197.57    208.60   58.03   67.60   50.84    0.58\n",
            " 52    4600        184.60    166.33   57.07   66.48   50.00    0.57\n",
            " 55    4800        106.94    111.14   57.63   68.00   50.00    0.58\n",
            " 58    5000        127.52     97.43   57.97   68.18   50.42    0.58\n",
            " 62    5200        109.47     80.96   59.42   69.89   51.68    0.59\n",
            " 65    5400         91.03     74.04   59.95   72.19   51.26    0.60\n",
            " 68    5600        110.05     59.97   59.61   72.02   50.84    0.60\n",
            " 72    5800         94.94     43.85   60.44   72.78   51.68    0.60\n",
            " 75    6000        136.95     49.51   60.33   69.40   53.36    0.60\n",
            " 78    6200         70.20     39.27   61.39   74.70   52.10    0.61\n",
            " 82    6400         70.93     31.93   60.78   72.94   52.10    0.61\n",
            " 85    6600         46.18     26.10   61.46   73.26   52.94    0.61\n",
            " 88    6800        100.40     39.75   61.50   72.57   53.36    0.62\n",
            " 91    7000         64.20     28.75   61.65   72.99   53.36    0.62\n",
            " 95    7200         49.37     20.78   61.84   72.73   53.78    0.62\n",
            " 98    7400         46.38     15.25   60.49   72.09   52.10    0.60\n",
            "101    7600         17.75      7.92   60.62   70.17   53.36    0.61\n",
            "105    7800         21.95      9.85   59.30   73.75   49.58    0.59\n",
            "108    8000         88.39     25.52   62.41   71.35   55.46    0.62\n",
            "111    8200         31.70     10.23   62.50   73.03   54.62    0.62\n",
            "115    8400         36.24     12.52   62.44   74.42   53.78    0.62\n",
            "118    8600         20.91      7.77   62.88   71.89   55.88    0.63\n",
            "121    8800         38.60     12.36   62.17   72.88   54.20    0.62\n",
            "125    9000         30.48      8.78   61.99   73.14   53.78    0.62\n",
            "128    9200         33.48     10.30   61.87   72.07   54.20    0.62\n",
            "131    9400         55.85     19.30   61.99   73.14   53.78    0.62\n",
            "134    9600         27.28      6.07   61.65   72.99   53.36    0.62\n",
            "138    9800         20.56      5.74   60.83   72.25   52.52    0.61\n",
            "141   10000         76.63     21.18   61.27   73.53   52.52    0.61\n",
            "144   10200         24.00      6.63   61.61   73.68   52.94    0.62\n",
            "\u001b[38;5;2m✔ Saved pipeline to output directory\u001b[0m\n",
            "training/model-last\n",
            "\u001b[1m\n",
            "================================== evaluate ==================================\u001b[0m\n",
            "Running command: /usr/bin/python3 -m spacy evaluate training/model-best corpus/fashion_brands_eval.spacy --output training/metrics.json\n",
            "2023-11-07 11:35:31.636934: E tensorflow/compiler/xla/stream_executor/cuda/cuda_dnn.cc:9342] Unable to register cuDNN factory: Attempting to register factory for plugin cuDNN when one has already been registered\n",
            "2023-11-07 11:35:31.636989: E tensorflow/compiler/xla/stream_executor/cuda/cuda_fft.cc:609] Unable to register cuFFT factory: Attempting to register factory for plugin cuFFT when one has already been registered\n",
            "2023-11-07 11:35:31.637021: E tensorflow/compiler/xla/stream_executor/cuda/cuda_blas.cc:1518] Unable to register cuBLAS factory: Attempting to register factory for plugin cuBLAS when one has already been registered\n",
            "2023-11-07 11:35:32.732945: W tensorflow/compiler/tf2tensorrt/utils/py_utils.cc:38] TF-TRT Warning: Could not find TensorRT\n",
            "\u001b[38;5;4mℹ Using CPU\u001b[0m\n",
            "\u001b[38;5;4mℹ To switch to GPU 0, use the option: --gpu-id 0\u001b[0m\n",
            "\u001b[1m\n",
            "================================== Results ==================================\u001b[0m\n",
            "\n",
            "TOK     99.98\n",
            "NER P   71.89\n",
            "NER R   55.88\n",
            "NER F   62.88\n",
            "SPEED   29242\n",
            "\n",
            "\u001b[1m\n",
            "=============================== NER (per type) ===============================\u001b[0m\n",
            "\n",
            "                    P       R       F\n",
            "FASHION_BRAND   71.89   55.88   62.88\n",
            "\n",
            "\u001b[38;5;2m✔ Saved results to training/metrics.json\u001b[0m\n"
          ]
        }
      ]
    },
    {
      "cell_type": "code",
      "source": [
        "# Using model\n",
        "import spacy\n",
        "\n",
        "nlp=spacy.load(\"/content/ner_fashion_brands/training/model-best\")\n",
        "\n",
        "address_list=[\"Thi is bag of Louis Vuitton in France\",\n",
        "              \"My Nike shoes is very pretty\",\n",
        "              \"The Gucci belt is a must have\",\n",
        "              \"C/O Elon Musk Innovations Inc, 1548 E Florida Avenue, Suite 209, TAMPA, FL, 33613, USA\",\n",
        "              \"Seven Edgeway Plaza, C/O Mac Dermott Inc, OAKBROOK TERRACE, IL, 60181, USA\"]\n",
        "\n",
        "for address in address_list:\n",
        "    doc=nlp(address)\n",
        "    ent_list=[(ent.text, ent.label_) for ent in doc.ents]\n",
        "    print(\"Address string -> \"+address)\n",
        "    print(\"Parsed address -> \"+str(ent_list))\n",
        "    print(\"******\")\n",
        "###Prediction output###"
      ],
      "metadata": {
        "colab": {
          "base_uri": "https://localhost:8080/"
        },
        "id": "abG0G1gNsNuc",
        "outputId": "9bedd826-0ffe-43dd-8076-e3341a5155f4"
      },
      "execution_count": null,
      "outputs": [
        {
          "output_type": "stream",
          "name": "stdout",
          "text": [
            "Address string -> Thi is bag of Louis Vuitton in France\n",
            "Parsed address -> [('Louis Vuitton', 'FASHION_BRAND')]\n",
            "******\n",
            "Address string -> My Nike shoes is very pretty\n",
            "Parsed address -> [('Nike', 'FASHION_BRAND')]\n",
            "******\n",
            "Address string -> The Gucci belt is a must have\n",
            "Parsed address -> [('Gucci', 'FASHION_BRAND')]\n",
            "******\n",
            "Address string -> C/O Elon Musk Innovations Inc, 1548 E Florida Avenue, Suite 209, TAMPA, FL, 33613, USA\n",
            "Parsed address -> [('O Elon Musk', 'FASHION_BRAND'), ('Suite', 'FASHION_BRAND'), ('TAMPA', 'FASHION_BRAND'), ('FL', 'FASHION_BRAND')]\n",
            "******\n",
            "Address string -> Seven Edgeway Plaza, C/O Mac Dermott Inc, OAKBROOK TERRACE, IL, 60181, USA\n",
            "Parsed address -> [('Seven', 'FASHION_BRAND'), ('O Mac', 'FASHION_BRAND')]\n",
            "******\n"
          ]
        }
      ]
    },
    {
      "cell_type": "code",
      "source": [
        "# Visualize Data\n",
        "!python -m spacy project run visualize-data /content/ner_fashion_brands"
      ],
      "metadata": {
        "colab": {
          "base_uri": "https://localhost:8080/"
        },
        "id": "VECGrYKjmJm8",
        "outputId": "edcda0a9-5317-4613-d4d0-01143191335b"
      },
      "execution_count": null,
      "outputs": [
        {
          "output_type": "stream",
          "name": "stdout",
          "text": [
            "2023-11-07 11:50:13.269256: E tensorflow/compiler/xla/stream_executor/cuda/cuda_dnn.cc:9342] Unable to register cuDNN factory: Attempting to register factory for plugin cuDNN when one has already been registered\n",
            "2023-11-07 11:50:13.269310: E tensorflow/compiler/xla/stream_executor/cuda/cuda_fft.cc:609] Unable to register cuFFT factory: Attempting to register factory for plugin cuFFT when one has already been registered\n",
            "2023-11-07 11:50:13.269348: E tensorflow/compiler/xla/stream_executor/cuda/cuda_blas.cc:1518] Unable to register cuBLAS factory: Attempting to register factory for plugin cuBLAS when one has already been registered\n",
            "2023-11-07 11:50:13.276747: I tensorflow/core/platform/cpu_feature_guard.cc:182] This TensorFlow binary is optimized to use available CPU instructions in performance-critical operations.\n",
            "To enable the following instructions: AVX2 AVX512F FMA, in other operations, rebuild TensorFlow with the appropriate compiler flags.\n",
            "2023-11-07 11:50:14.495634: W tensorflow/compiler/tf2tensorrt/utils/py_utils.cc:38] TF-TRT Warning: Could not find TensorRT\n",
            "2023-11-07 11:50:16.397115: I tensorflow/compiler/xla/stream_executor/cuda/cuda_gpu_executor.cc:894] successful NUMA node read from SysFS had negative value (-1), but there must be at least one NUMA node, so returning NUMA node zero. See more at https://github.com/torvalds/linux/blob/v6.0/Documentation/ABI/testing/sysfs-bus-pci#L344-L355\n",
            "2023-11-07 11:50:16.397647: I tensorflow/compiler/xla/stream_executor/cuda/cuda_gpu_executor.cc:894] successful NUMA node read from SysFS had negative value (-1), but there must be at least one NUMA node, so returning NUMA node zero. See more at https://github.com/torvalds/linux/blob/v6.0/Documentation/ABI/testing/sysfs-bus-pci#L344-L355\n",
            "2023-11-07 11:50:16.397898: I tensorflow/compiler/xla/stream_executor/cuda/cuda_gpu_executor.cc:894] successful NUMA node read from SysFS had negative value (-1), but there must be at least one NUMA node, so returning NUMA node zero. See more at https://github.com/torvalds/linux/blob/v6.0/Documentation/ABI/testing/sysfs-bus-pci#L344-L355\n",
            "\u001b[1m\n",
            "=============================== visualize-data ===============================\u001b[0m\n",
            "Running command: streamlit run scripts/visualize_data.py assets/fashion_brands_training.jsonl,assets/fashion_brands_eval.jsonl\n",
            "\n",
            "Collecting usage statistics. To deactivate, set browser.gatherUsageStats to False.\n",
            "\u001b[0m\n",
            "\u001b[0m\n",
            "\u001b[34m\u001b[1m  You can now view your Streamlit app in your browser.\u001b[0m\n",
            "\u001b[0m\n",
            "\u001b[34m  Network URL: \u001b[0m\u001b[1mhttp://172.28.0.12:8501\u001b[0m\n",
            "\u001b[34m  External URL: \u001b[0m\u001b[1mhttp://34.143.202.221:8501\u001b[0m\n",
            "\u001b[0m\n",
            "\u001b[34m  Stopping...\u001b[0m\n",
            "\n",
            "\u001b[31mAborted.\u001b[0m\n"
          ]
        }
      ]
    },
    {
      "cell_type": "code",
      "source": [
        "# Visualize Model\n",
        "!python -m spacy project run visualize-model /content/ner_fashion_brands"
      ],
      "metadata": {
        "colab": {
          "base_uri": "https://localhost:8080/"
        },
        "id": "kAo0mFOJmu2O",
        "outputId": "16e35980-1b42-4dd5-976d-8ba734f6e5ef"
      },
      "execution_count": null,
      "outputs": [
        {
          "output_type": "stream",
          "name": "stdout",
          "text": [
            "2023-11-07 11:46:48.195314: E tensorflow/compiler/xla/stream_executor/cuda/cuda_dnn.cc:9342] Unable to register cuDNN factory: Attempting to register factory for plugin cuDNN when one has already been registered\n",
            "2023-11-07 11:46:48.195367: E tensorflow/compiler/xla/stream_executor/cuda/cuda_fft.cc:609] Unable to register cuFFT factory: Attempting to register factory for plugin cuFFT when one has already been registered\n",
            "2023-11-07 11:46:48.195411: E tensorflow/compiler/xla/stream_executor/cuda/cuda_blas.cc:1518] Unable to register cuBLAS factory: Attempting to register factory for plugin cuBLAS when one has already been registered\n",
            "2023-11-07 11:46:48.203091: I tensorflow/core/platform/cpu_feature_guard.cc:182] This TensorFlow binary is optimized to use available CPU instructions in performance-critical operations.\n",
            "To enable the following instructions: AVX2 AVX512F FMA, in other operations, rebuild TensorFlow with the appropriate compiler flags.\n",
            "2023-11-07 11:46:49.296355: W tensorflow/compiler/tf2tensorrt/utils/py_utils.cc:38] TF-TRT Warning: Could not find TensorRT\n",
            "2023-11-07 11:46:50.549229: I tensorflow/compiler/xla/stream_executor/cuda/cuda_gpu_executor.cc:894] successful NUMA node read from SysFS had negative value (-1), but there must be at least one NUMA node, so returning NUMA node zero. See more at https://github.com/torvalds/linux/blob/v6.0/Documentation/ABI/testing/sysfs-bus-pci#L344-L355\n",
            "2023-11-07 11:46:50.549631: I tensorflow/compiler/xla/stream_executor/cuda/cuda_gpu_executor.cc:894] successful NUMA node read from SysFS had negative value (-1), but there must be at least one NUMA node, so returning NUMA node zero. See more at https://github.com/torvalds/linux/blob/v6.0/Documentation/ABI/testing/sysfs-bus-pci#L344-L355\n",
            "2023-11-07 11:46:50.549799: I tensorflow/compiler/xla/stream_executor/cuda/cuda_gpu_executor.cc:894] successful NUMA node read from SysFS had negative value (-1), but there must be at least one NUMA node, so returning NUMA node zero. See more at https://github.com/torvalds/linux/blob/v6.0/Documentation/ABI/testing/sysfs-bus-pci#L344-L355\n",
            "\u001b[1m\n",
            "============================== visualize-model ==============================\u001b[0m\n",
            "Running command: streamlit run scripts/visualize_model.py training/model-best 'I like Adidas shoes.'\n",
            "\n",
            "Collecting usage statistics. To deactivate, set browser.gatherUsageStats to False.\n",
            "\u001b[0m\n",
            "\u001b[0m\n",
            "\u001b[34m\u001b[1m  You can now view your Streamlit app in your browser.\u001b[0m\n",
            "\u001b[0m\n",
            "\u001b[34m  Network URL: \u001b[0m\u001b[1mhttp://172.28.0.12:8501\u001b[0m\n",
            "\u001b[34m  External URL: \u001b[0m\u001b[1mhttp://34.143.202.221:8501\u001b[0m\n",
            "\u001b[0m\n",
            "\u001b[34m  Stopping...\u001b[0m\n",
            "\n",
            "\u001b[31mAborted.\u001b[0m\n"
          ]
        }
      ]
    },
    {
      "cell_type": "code",
      "source": [
        "# run project\n",
        "from spacy.cli.project.run import project_run\n",
        "from spacy.cli.project.assets import project_assets\n",
        "from pathlib import Path\n",
        "\n",
        "\n",
        "def test_ner_fashion_project():\n",
        "    root = Path(__file__).parent\n",
        "    project_assets(root)\n",
        "    project_run(root, \"all\", capture=True)\n",
        "    project_run(root, \"package\", capture=True)"
      ],
      "metadata": {
        "id": "f4xutZxkwTAP"
      },
      "execution_count": null,
      "outputs": []
    },
    {
      "cell_type": "markdown",
      "source": [
        "## Preprocess  \n",
        "name: \"preprocess\"\n",
        "    help: \"Convert the data to spaCy's binary format\"\n",
        "    script:\n",
        "      - \"python scripts/preprocess.py assets/${vars.train}.jsonl corpus/${vars.train}.spacy\"\n",
        "      - \"python scripts/preprocess.py assets/${vars.dev}.jsonl corpus/${vars.dev}.spacy\"\n",
        "    deps:\n",
        "      - \"assets/${vars.train}.jsonl\"\n",
        "      - \"assets/${vars.dev}.jsonl\"\n",
        "      - \"scripts/preprocess.py\"\n",
        "    outputs:\n",
        "      - \"corpus/${vars.train}.spacy\"\n",
        "      - \"corpus/${vars.dev}.spacy\""
      ],
      "metadata": {
        "id": "mlht9SDzwqmh"
      }
    },
    {
      "cell_type": "code",
      "source": [
        "# preprocess\n",
        "# \"python scripts/preprocess.py assets/${vars.train}.jsonl corpus/${vars.train}.spacy\"\n",
        "# \"python scripts/preprocess.py assets/${vars.dev}.jsonl corpus/${vars.dev}.spacy\"\n",
        "\n",
        "import typer\n",
        "import srsly\n",
        "from pathlib import Path\n",
        "from spacy.util import get_words_and_spaces\n",
        "from spacy.tokens import Doc, DocBin\n",
        "import spacy\n",
        "\n",
        "input_path = \"assets/fashion_brands_training.jsonl\"\n",
        "output_path = \"corpus/fashion_brands_training.spacy\"\n",
        "\n",
        "def preprocess(input_path, output_path):\n",
        "  nlp = spacy.blank(\"en\")\n",
        "  doc_bin = DocBin(attrs=[\"ENT_IOB\", \"ENT_TYPE\"])\n",
        "  print('input_path:',input_path)\n",
        "  print('output_path:',output_path)\n",
        "\n",
        "  for eg in srsly.read_jsonl(input_path):\n",
        "      if eg[\"answer\"] != \"accept\":\n",
        "          continue\n",
        "      tokens = [token[\"text\"] for token in eg[\"tokens\"]]\n",
        "      words, spaces = get_words_and_spaces(tokens, eg[\"text\"])\n",
        "      doc = Doc(nlp.vocab, words=words, spaces=spaces)\n",
        "      doc.ents = [\n",
        "          doc.char_span(s[\"start\"], s[\"end\"], label=s[\"label\"])\n",
        "          for s in eg.get(\"spans\", [])\n",
        "      ]\n",
        "      doc_bin.add(doc)\n",
        "  doc_bin.to_disk(output_path)\n",
        "  print(f\"Processed {len(doc_bin)} documents: {output_path}\")\n",
        "\n",
        "preprocess(\"assets/fashion_brands_training.jsonl\", \"corpus/fashion_brands_training.spacy\")\n",
        "preprocess(\"assets/fashion_brands_eval.jsonl\", \"corpus/fashion_brands_eval.spacy\")\n",
        "\n",
        "\n"
      ],
      "metadata": {
        "colab": {
          "base_uri": "https://localhost:8080/"
        },
        "id": "7KL3tYghwywA",
        "outputId": "c639cf00-4ec1-4cbd-af7f-ea0f9cfed2db"
      },
      "execution_count": null,
      "outputs": [
        {
          "output_type": "stream",
          "name": "stdout",
          "text": [
            "input_path: assets/fashion_brands_training.jsonl\n",
            "output_path: corpus/fashion_brands_training.spacy\n",
            "Processed 1235 documents: corpus/fashion_brands_training.spacy\n",
            "input_path: assets/fashion_brands_eval.jsonl\n",
            "output_path: corpus/fashion_brands_eval.spacy\n",
            "Processed 500 documents: corpus/fashion_brands_eval.spacy\n"
          ]
        }
      ]
    },
    {
      "cell_type": "code",
      "source": [
        "# training\n",
        "!python -m spacy train configs/config.cfg --output training/ --paths.train corpus/fashion_brands_training.spacy --paths.dev corpus/fashion_brands_eval.spacy --gpu-id 0"
      ],
      "metadata": {
        "colab": {
          "base_uri": "https://localhost:8080/"
        },
        "id": "bfPF2Bjqzgvf",
        "outputId": "acea8857-8d77-482f-b3d1-bc3289b3cfa5"
      },
      "execution_count": null,
      "outputs": [
        {
          "output_type": "stream",
          "name": "stdout",
          "text": [
            "2023-11-04 11:00:07.347175: E tensorflow/compiler/xla/stream_executor/cuda/cuda_dnn.cc:9342] Unable to register cuDNN factory: Attempting to register factory for plugin cuDNN when one has already been registered\n",
            "2023-11-04 11:00:07.347232: E tensorflow/compiler/xla/stream_executor/cuda/cuda_fft.cc:609] Unable to register cuFFT factory: Attempting to register factory for plugin cuFFT when one has already been registered\n",
            "2023-11-04 11:00:07.347273: E tensorflow/compiler/xla/stream_executor/cuda/cuda_blas.cc:1518] Unable to register cuBLAS factory: Attempting to register factory for plugin cuBLAS when one has already been registered\n",
            "2023-11-04 11:00:07.359274: I tensorflow/core/platform/cpu_feature_guard.cc:182] This TensorFlow binary is optimized to use available CPU instructions in performance-critical operations.\n",
            "To enable the following instructions: AVX2 FMA, in other operations, rebuild TensorFlow with the appropriate compiler flags.\n",
            "2023-11-04 11:00:09.140414: W tensorflow/compiler/tf2tensorrt/utils/py_utils.cc:38] TF-TRT Warning: Could not find TensorRT\n",
            "2023-11-04 11:00:11.095118: I tensorflow/compiler/xla/stream_executor/cuda/cuda_gpu_executor.cc:894] successful NUMA node read from SysFS had negative value (-1), but there must be at least one NUMA node, so returning NUMA node zero. See more at https://github.com/torvalds/linux/blob/v6.0/Documentation/ABI/testing/sysfs-bus-pci#L344-L355\n",
            "2023-11-04 11:00:11.095632: I tensorflow/compiler/xla/stream_executor/cuda/cuda_gpu_executor.cc:894] successful NUMA node read from SysFS had negative value (-1), but there must be at least one NUMA node, so returning NUMA node zero. See more at https://github.com/torvalds/linux/blob/v6.0/Documentation/ABI/testing/sysfs-bus-pci#L344-L355\n",
            "2023-11-04 11:00:11.095857: I tensorflow/compiler/xla/stream_executor/cuda/cuda_gpu_executor.cc:894] successful NUMA node read from SysFS had negative value (-1), but there must be at least one NUMA node, so returning NUMA node zero. See more at https://github.com/torvalds/linux/blob/v6.0/Documentation/ABI/testing/sysfs-bus-pci#L344-L355\n",
            "\u001b[33mUsage: \u001b[0mpython \u001b[1;32m-m\u001b[0m spacy train [OPTIONS] CONFIG_PATH\n",
            "\u001b[2mTry \u001b[0m\u001b[2;34m'python \u001b[0m\u001b[1;2;34m-m\u001b[0m\u001b[2;34m spacy train \u001b[0m\u001b[1;2;34m-\u001b[0m\u001b[1;2;34m-help\u001b[0m\u001b[2;34m'\u001b[0m\u001b[2m for help.\u001b[0m\n",
            "\u001b[31m╭─\u001b[0m\u001b[31m Error \u001b[0m\u001b[31m─────────────────────────────────────────────────────────────────────────────────────────\u001b[0m\u001b[31m─╮\u001b[0m\n",
            "\u001b[31m│\u001b[0m Invalid value for 'CONFIG_PATH': Path 'configs/config.cfg' does not exist.                       \u001b[31m│\u001b[0m\n",
            "\u001b[31m╰──────────────────────────────────────────────────────────────────────────────────────────────────╯\u001b[0m\n"
          ]
        }
      ]
    },
    {
      "cell_type": "code",
      "source": [
        "!curl https://colab.chainer.org/install | sh -"
      ],
      "metadata": {
        "colab": {
          "base_uri": "https://localhost:8080/"
        },
        "id": "sQ06dwDr_OnT",
        "outputId": "c7928d2e-d237-480d-93a8-c10c900ae0b6"
      },
      "execution_count": null,
      "outputs": [
        {
          "output_type": "stream",
          "name": "stdout",
          "text": [
            "  % Total    % Received % Xferd  Average Speed   Time    Time     Time  Current\n",
            "                                 Dload  Upload   Total   Spent    Left  Speed\n",
            "\r  0     0    0     0    0     0      0      0 --:--:-- --:--:-- --:--:--     0\r100  1553  100  1553    0     0  10890      0 --:--:-- --:--:-- --:--:-- 10936\n",
            "sh: 9: nvidia-smi: not found\n",
            "********************************************************************************\n",
            "GPU is not enabled!\n",
            "Open \"Runtime\" > \"Change runtime type\" and set \"Hardware accelerator\" to \"GPU\".\n",
            "********************************************************************************\n"
          ]
        }
      ]
    }
  ]
}